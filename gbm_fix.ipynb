{
  "nbformat": 4,
  "nbformat_minor": 0,
  "metadata": {
    "colab": {
      "name": "gbm_fix",
      "provenance": [],
      "collapsed_sections": [],
      "include_colab_link": true
    },
    "kernelspec": {
      "name": "python3",
      "display_name": "Python 3"
    },
    "language_info": {
      "name": "python"
    },
    "accelerator": "GPU"
  },
  "cells": [
    {
      "cell_type": "markdown",
      "metadata": {
        "id": "view-in-github",
        "colab_type": "text"
      },
      "source": [
        "<a href=\"https://colab.research.google.com/github/ShunMatsuoka/regression_search/blob/main/gbm_fix.ipynb\" target=\"_parent\"><img src=\"https://colab.research.google.com/assets/colab-badge.svg\" alt=\"Open In Colab\"/></a>"
      ]
    },
    {
      "cell_type": "code",
      "metadata": {
        "id": "49Ii4SX0VKMu"
      },
      "source": [
        "from sklearn.datasets import load_boston\n",
        "import numpy as np\n",
        "\n",
        "dataset = load_boston()"
      ],
      "execution_count": 87,
      "outputs": []
    },
    {
      "cell_type": "code",
      "metadata": {
        "id": "PtoXkR1xVfIx"
      },
      "source": [
        "x = dataset.data #説明変数\n",
        "t = dataset.target #目的変数"
      ],
      "execution_count": 88,
      "outputs": []
    },
    {
      "cell_type": "code",
      "metadata": {
        "id": "phydhWnqVkIi"
      },
      "source": [
        "f_name = dataset.feature_names"
      ],
      "execution_count": 89,
      "outputs": []
    },
    {
      "cell_type": "code",
      "metadata": {
        "colab": {
          "base_uri": "https://localhost:8080/"
        },
        "id": "z-ngcy8tVpYj",
        "outputId": "2bdbf155-8599-4a81-95af-17a04e63cbb1"
      },
      "source": [
        "f_name"
      ],
      "execution_count": 90,
      "outputs": [
        {
          "output_type": "execute_result",
          "data": {
            "text/plain": [
              "array(['CRIM', 'ZN', 'INDUS', 'CHAS', 'NOX', 'RM', 'AGE', 'DIS', 'RAD',\n",
              "       'TAX', 'PTRATIO', 'B', 'LSTAT'], dtype='<U7')"
            ]
          },
          "metadata": {},
          "execution_count": 90
        }
      ]
    },
    {
      "cell_type": "code",
      "metadata": {
        "colab": {
          "base_uri": "https://localhost:8080/"
        },
        "id": "TgtixR2QVqlI",
        "outputId": "87f81625-bd17-42fc-a9a5-3b1443f116f9"
      },
      "source": [
        "x.shape"
      ],
      "execution_count": 91,
      "outputs": [
        {
          "output_type": "execute_result",
          "data": {
            "text/plain": [
              "(506, 13)"
            ]
          },
          "metadata": {},
          "execution_count": 91
        }
      ]
    },
    {
      "cell_type": "code",
      "metadata": {
        "id": "jdkYUINNVz_9"
      },
      "source": [
        "#データセットを分割する関数の読み込み\n",
        "from sklearn.model_selection import train_test_split\n",
        "#訓練用データとテストデータセットへの分割\n",
        "x_train,x_test,t_train,t_test = train_test_split(x,t,test_size=0.3,random_state=0)"
      ],
      "execution_count": 92,
      "outputs": []
    },
    {
      "cell_type": "code",
      "metadata": {
        "colab": {
          "base_uri": "https://localhost:8080/",
          "height": 419
        },
        "id": "OW9iEcC6Xrjj",
        "outputId": "4d86508b-4dab-49d7-917a-ba3566dbd4d1"
      },
      "source": [
        "import pandas as pd\n",
        "#データフレーム型に変換\n",
        "train_df = pd.DataFrame(x_train,columns=f_name)\n",
        "#不要カラムの削除\n",
        "train_df = train_df.drop([\"ZN\", \"CHAS\", \"RAD\"], axis=1)\n",
        "train_df"
      ],
      "execution_count": 93,
      "outputs": [
        {
          "output_type": "execute_result",
          "data": {
            "text/html": [
              "<div>\n",
              "<style scoped>\n",
              "    .dataframe tbody tr th:only-of-type {\n",
              "        vertical-align: middle;\n",
              "    }\n",
              "\n",
              "    .dataframe tbody tr th {\n",
              "        vertical-align: top;\n",
              "    }\n",
              "\n",
              "    .dataframe thead th {\n",
              "        text-align: right;\n",
              "    }\n",
              "</style>\n",
              "<table border=\"1\" class=\"dataframe\">\n",
              "  <thead>\n",
              "    <tr style=\"text-align: right;\">\n",
              "      <th></th>\n",
              "      <th>CRIM</th>\n",
              "      <th>INDUS</th>\n",
              "      <th>NOX</th>\n",
              "      <th>RM</th>\n",
              "      <th>AGE</th>\n",
              "      <th>DIS</th>\n",
              "      <th>TAX</th>\n",
              "      <th>PTRATIO</th>\n",
              "      <th>B</th>\n",
              "      <th>LSTAT</th>\n",
              "    </tr>\n",
              "  </thead>\n",
              "  <tbody>\n",
              "    <tr>\n",
              "      <th>0</th>\n",
              "      <td>1.62864</td>\n",
              "      <td>21.89</td>\n",
              "      <td>0.624</td>\n",
              "      <td>5.019</td>\n",
              "      <td>100.0</td>\n",
              "      <td>1.4394</td>\n",
              "      <td>437.0</td>\n",
              "      <td>21.2</td>\n",
              "      <td>396.90</td>\n",
              "      <td>34.41</td>\n",
              "    </tr>\n",
              "    <tr>\n",
              "      <th>1</th>\n",
              "      <td>0.11460</td>\n",
              "      <td>6.96</td>\n",
              "      <td>0.464</td>\n",
              "      <td>6.538</td>\n",
              "      <td>58.7</td>\n",
              "      <td>3.9175</td>\n",
              "      <td>223.0</td>\n",
              "      <td>18.6</td>\n",
              "      <td>394.96</td>\n",
              "      <td>7.73</td>\n",
              "    </tr>\n",
              "    <tr>\n",
              "      <th>2</th>\n",
              "      <td>0.55778</td>\n",
              "      <td>21.89</td>\n",
              "      <td>0.624</td>\n",
              "      <td>6.335</td>\n",
              "      <td>98.2</td>\n",
              "      <td>2.1107</td>\n",
              "      <td>437.0</td>\n",
              "      <td>21.2</td>\n",
              "      <td>394.67</td>\n",
              "      <td>16.96</td>\n",
              "    </tr>\n",
              "    <tr>\n",
              "      <th>3</th>\n",
              "      <td>0.06466</td>\n",
              "      <td>2.24</td>\n",
              "      <td>0.400</td>\n",
              "      <td>6.345</td>\n",
              "      <td>20.1</td>\n",
              "      <td>7.8278</td>\n",
              "      <td>358.0</td>\n",
              "      <td>14.8</td>\n",
              "      <td>368.24</td>\n",
              "      <td>4.97</td>\n",
              "    </tr>\n",
              "    <tr>\n",
              "      <th>4</th>\n",
              "      <td>0.09299</td>\n",
              "      <td>25.65</td>\n",
              "      <td>0.581</td>\n",
              "      <td>5.961</td>\n",
              "      <td>92.9</td>\n",
              "      <td>2.0869</td>\n",
              "      <td>188.0</td>\n",
              "      <td>19.1</td>\n",
              "      <td>378.09</td>\n",
              "      <td>17.93</td>\n",
              "    </tr>\n",
              "    <tr>\n",
              "      <th>...</th>\n",
              "      <td>...</td>\n",
              "      <td>...</td>\n",
              "      <td>...</td>\n",
              "      <td>...</td>\n",
              "      <td>...</td>\n",
              "      <td>...</td>\n",
              "      <td>...</td>\n",
              "      <td>...</td>\n",
              "      <td>...</td>\n",
              "      <td>...</td>\n",
              "    </tr>\n",
              "    <tr>\n",
              "      <th>349</th>\n",
              "      <td>0.28392</td>\n",
              "      <td>7.38</td>\n",
              "      <td>0.493</td>\n",
              "      <td>5.708</td>\n",
              "      <td>74.3</td>\n",
              "      <td>4.7211</td>\n",
              "      <td>287.0</td>\n",
              "      <td>19.6</td>\n",
              "      <td>391.13</td>\n",
              "      <td>11.74</td>\n",
              "    </tr>\n",
              "    <tr>\n",
              "      <th>350</th>\n",
              "      <td>0.08664</td>\n",
              "      <td>3.44</td>\n",
              "      <td>0.437</td>\n",
              "      <td>7.178</td>\n",
              "      <td>26.3</td>\n",
              "      <td>6.4798</td>\n",
              "      <td>398.0</td>\n",
              "      <td>15.2</td>\n",
              "      <td>390.49</td>\n",
              "      <td>2.87</td>\n",
              "    </tr>\n",
              "    <tr>\n",
              "      <th>351</th>\n",
              "      <td>0.15098</td>\n",
              "      <td>10.01</td>\n",
              "      <td>0.547</td>\n",
              "      <td>6.021</td>\n",
              "      <td>82.6</td>\n",
              "      <td>2.7474</td>\n",
              "      <td>432.0</td>\n",
              "      <td>17.8</td>\n",
              "      <td>394.51</td>\n",
              "      <td>10.30</td>\n",
              "    </tr>\n",
              "    <tr>\n",
              "      <th>352</th>\n",
              "      <td>0.22927</td>\n",
              "      <td>6.91</td>\n",
              "      <td>0.448</td>\n",
              "      <td>6.030</td>\n",
              "      <td>85.5</td>\n",
              "      <td>5.6894</td>\n",
              "      <td>233.0</td>\n",
              "      <td>17.9</td>\n",
              "      <td>392.74</td>\n",
              "      <td>18.80</td>\n",
              "    </tr>\n",
              "    <tr>\n",
              "      <th>353</th>\n",
              "      <td>0.13914</td>\n",
              "      <td>4.05</td>\n",
              "      <td>0.510</td>\n",
              "      <td>5.572</td>\n",
              "      <td>88.5</td>\n",
              "      <td>2.5961</td>\n",
              "      <td>296.0</td>\n",
              "      <td>16.6</td>\n",
              "      <td>396.90</td>\n",
              "      <td>14.69</td>\n",
              "    </tr>\n",
              "  </tbody>\n",
              "</table>\n",
              "<p>354 rows × 10 columns</p>\n",
              "</div>"
            ],
            "text/plain": [
              "        CRIM  INDUS    NOX     RM    AGE     DIS    TAX  PTRATIO       B  LSTAT\n",
              "0    1.62864  21.89  0.624  5.019  100.0  1.4394  437.0     21.2  396.90  34.41\n",
              "1    0.11460   6.96  0.464  6.538   58.7  3.9175  223.0     18.6  394.96   7.73\n",
              "2    0.55778  21.89  0.624  6.335   98.2  2.1107  437.0     21.2  394.67  16.96\n",
              "3    0.06466   2.24  0.400  6.345   20.1  7.8278  358.0     14.8  368.24   4.97\n",
              "4    0.09299  25.65  0.581  5.961   92.9  2.0869  188.0     19.1  378.09  17.93\n",
              "..       ...    ...    ...    ...    ...     ...    ...      ...     ...    ...\n",
              "349  0.28392   7.38  0.493  5.708   74.3  4.7211  287.0     19.6  391.13  11.74\n",
              "350  0.08664   3.44  0.437  7.178   26.3  6.4798  398.0     15.2  390.49   2.87\n",
              "351  0.15098  10.01  0.547  6.021   82.6  2.7474  432.0     17.8  394.51  10.30\n",
              "352  0.22927   6.91  0.448  6.030   85.5  5.6894  233.0     17.9  392.74  18.80\n",
              "353  0.13914   4.05  0.510  5.572   88.5  2.5961  296.0     16.6  396.90  14.69\n",
              "\n",
              "[354 rows x 10 columns]"
            ]
          },
          "metadata": {},
          "execution_count": 93
        }
      ]
    },
    {
      "cell_type": "code",
      "metadata": {
        "id": "2DSm98BNZnJy"
      },
      "source": [
        "train_df = pd.concat([train_df,pd.DataFrame(t_train)],axis=1).rename(columns={0:\"MEDV\"})"
      ],
      "execution_count": 94,
      "outputs": []
    },
    {
      "cell_type": "code",
      "metadata": {
        "colab": {
          "base_uri": "https://localhost:8080/",
          "height": 419
        },
        "id": "5wevPKaOasfc",
        "outputId": "31d26cb8-8a76-42bf-c2d2-4b09f5c39fac"
      },
      "source": [
        "train_df"
      ],
      "execution_count": 95,
      "outputs": [
        {
          "output_type": "execute_result",
          "data": {
            "text/html": [
              "<div>\n",
              "<style scoped>\n",
              "    .dataframe tbody tr th:only-of-type {\n",
              "        vertical-align: middle;\n",
              "    }\n",
              "\n",
              "    .dataframe tbody tr th {\n",
              "        vertical-align: top;\n",
              "    }\n",
              "\n",
              "    .dataframe thead th {\n",
              "        text-align: right;\n",
              "    }\n",
              "</style>\n",
              "<table border=\"1\" class=\"dataframe\">\n",
              "  <thead>\n",
              "    <tr style=\"text-align: right;\">\n",
              "      <th></th>\n",
              "      <th>CRIM</th>\n",
              "      <th>INDUS</th>\n",
              "      <th>NOX</th>\n",
              "      <th>RM</th>\n",
              "      <th>AGE</th>\n",
              "      <th>DIS</th>\n",
              "      <th>TAX</th>\n",
              "      <th>PTRATIO</th>\n",
              "      <th>B</th>\n",
              "      <th>LSTAT</th>\n",
              "      <th>MEDV</th>\n",
              "    </tr>\n",
              "  </thead>\n",
              "  <tbody>\n",
              "    <tr>\n",
              "      <th>0</th>\n",
              "      <td>1.62864</td>\n",
              "      <td>21.89</td>\n",
              "      <td>0.624</td>\n",
              "      <td>5.019</td>\n",
              "      <td>100.0</td>\n",
              "      <td>1.4394</td>\n",
              "      <td>437.0</td>\n",
              "      <td>21.2</td>\n",
              "      <td>396.90</td>\n",
              "      <td>34.41</td>\n",
              "      <td>14.4</td>\n",
              "    </tr>\n",
              "    <tr>\n",
              "      <th>1</th>\n",
              "      <td>0.11460</td>\n",
              "      <td>6.96</td>\n",
              "      <td>0.464</td>\n",
              "      <td>6.538</td>\n",
              "      <td>58.7</td>\n",
              "      <td>3.9175</td>\n",
              "      <td>223.0</td>\n",
              "      <td>18.6</td>\n",
              "      <td>394.96</td>\n",
              "      <td>7.73</td>\n",
              "      <td>24.4</td>\n",
              "    </tr>\n",
              "    <tr>\n",
              "      <th>2</th>\n",
              "      <td>0.55778</td>\n",
              "      <td>21.89</td>\n",
              "      <td>0.624</td>\n",
              "      <td>6.335</td>\n",
              "      <td>98.2</td>\n",
              "      <td>2.1107</td>\n",
              "      <td>437.0</td>\n",
              "      <td>21.2</td>\n",
              "      <td>394.67</td>\n",
              "      <td>16.96</td>\n",
              "      <td>18.1</td>\n",
              "    </tr>\n",
              "    <tr>\n",
              "      <th>3</th>\n",
              "      <td>0.06466</td>\n",
              "      <td>2.24</td>\n",
              "      <td>0.400</td>\n",
              "      <td>6.345</td>\n",
              "      <td>20.1</td>\n",
              "      <td>7.8278</td>\n",
              "      <td>358.0</td>\n",
              "      <td>14.8</td>\n",
              "      <td>368.24</td>\n",
              "      <td>4.97</td>\n",
              "      <td>22.5</td>\n",
              "    </tr>\n",
              "    <tr>\n",
              "      <th>4</th>\n",
              "      <td>0.09299</td>\n",
              "      <td>25.65</td>\n",
              "      <td>0.581</td>\n",
              "      <td>5.961</td>\n",
              "      <td>92.9</td>\n",
              "      <td>2.0869</td>\n",
              "      <td>188.0</td>\n",
              "      <td>19.1</td>\n",
              "      <td>378.09</td>\n",
              "      <td>17.93</td>\n",
              "      <td>20.5</td>\n",
              "    </tr>\n",
              "    <tr>\n",
              "      <th>...</th>\n",
              "      <td>...</td>\n",
              "      <td>...</td>\n",
              "      <td>...</td>\n",
              "      <td>...</td>\n",
              "      <td>...</td>\n",
              "      <td>...</td>\n",
              "      <td>...</td>\n",
              "      <td>...</td>\n",
              "      <td>...</td>\n",
              "      <td>...</td>\n",
              "      <td>...</td>\n",
              "    </tr>\n",
              "    <tr>\n",
              "      <th>349</th>\n",
              "      <td>0.28392</td>\n",
              "      <td>7.38</td>\n",
              "      <td>0.493</td>\n",
              "      <td>5.708</td>\n",
              "      <td>74.3</td>\n",
              "      <td>4.7211</td>\n",
              "      <td>287.0</td>\n",
              "      <td>19.6</td>\n",
              "      <td>391.13</td>\n",
              "      <td>11.74</td>\n",
              "      <td>18.5</td>\n",
              "    </tr>\n",
              "    <tr>\n",
              "      <th>350</th>\n",
              "      <td>0.08664</td>\n",
              "      <td>3.44</td>\n",
              "      <td>0.437</td>\n",
              "      <td>7.178</td>\n",
              "      <td>26.3</td>\n",
              "      <td>6.4798</td>\n",
              "      <td>398.0</td>\n",
              "      <td>15.2</td>\n",
              "      <td>390.49</td>\n",
              "      <td>2.87</td>\n",
              "      <td>36.4</td>\n",
              "    </tr>\n",
              "    <tr>\n",
              "      <th>351</th>\n",
              "      <td>0.15098</td>\n",
              "      <td>10.01</td>\n",
              "      <td>0.547</td>\n",
              "      <td>6.021</td>\n",
              "      <td>82.6</td>\n",
              "      <td>2.7474</td>\n",
              "      <td>432.0</td>\n",
              "      <td>17.8</td>\n",
              "      <td>394.51</td>\n",
              "      <td>10.30</td>\n",
              "      <td>19.2</td>\n",
              "    </tr>\n",
              "    <tr>\n",
              "      <th>352</th>\n",
              "      <td>0.22927</td>\n",
              "      <td>6.91</td>\n",
              "      <td>0.448</td>\n",
              "      <td>6.030</td>\n",
              "      <td>85.5</td>\n",
              "      <td>5.6894</td>\n",
              "      <td>233.0</td>\n",
              "      <td>17.9</td>\n",
              "      <td>392.74</td>\n",
              "      <td>18.80</td>\n",
              "      <td>16.6</td>\n",
              "    </tr>\n",
              "    <tr>\n",
              "      <th>353</th>\n",
              "      <td>0.13914</td>\n",
              "      <td>4.05</td>\n",
              "      <td>0.510</td>\n",
              "      <td>5.572</td>\n",
              "      <td>88.5</td>\n",
              "      <td>2.5961</td>\n",
              "      <td>296.0</td>\n",
              "      <td>16.6</td>\n",
              "      <td>396.90</td>\n",
              "      <td>14.69</td>\n",
              "      <td>23.1</td>\n",
              "    </tr>\n",
              "  </tbody>\n",
              "</table>\n",
              "<p>354 rows × 11 columns</p>\n",
              "</div>"
            ],
            "text/plain": [
              "        CRIM  INDUS    NOX     RM    AGE  ...    TAX  PTRATIO       B  LSTAT  MEDV\n",
              "0    1.62864  21.89  0.624  5.019  100.0  ...  437.0     21.2  396.90  34.41  14.4\n",
              "1    0.11460   6.96  0.464  6.538   58.7  ...  223.0     18.6  394.96   7.73  24.4\n",
              "2    0.55778  21.89  0.624  6.335   98.2  ...  437.0     21.2  394.67  16.96  18.1\n",
              "3    0.06466   2.24  0.400  6.345   20.1  ...  358.0     14.8  368.24   4.97  22.5\n",
              "4    0.09299  25.65  0.581  5.961   92.9  ...  188.0     19.1  378.09  17.93  20.5\n",
              "..       ...    ...    ...    ...    ...  ...    ...      ...     ...    ...   ...\n",
              "349  0.28392   7.38  0.493  5.708   74.3  ...  287.0     19.6  391.13  11.74  18.5\n",
              "350  0.08664   3.44  0.437  7.178   26.3  ...  398.0     15.2  390.49   2.87  36.4\n",
              "351  0.15098  10.01  0.547  6.021   82.6  ...  432.0     17.8  394.51  10.30  19.2\n",
              "352  0.22927   6.91  0.448  6.030   85.5  ...  233.0     17.9  392.74  18.80  16.6\n",
              "353  0.13914   4.05  0.510  5.572   88.5  ...  296.0     16.6  396.90  14.69  23.1\n",
              "\n",
              "[354 rows x 11 columns]"
            ]
          },
          "metadata": {},
          "execution_count": 95
        }
      ]
    },
    {
      "cell_type": "code",
      "metadata": {
        "colab": {
          "base_uri": "https://localhost:8080/",
          "height": 390
        },
        "id": "SxnLSyula27f",
        "outputId": "a516d8a1-d898-48f0-810b-c2c9cd353ce2"
      },
      "source": [
        "train_df.describe().T"
      ],
      "execution_count": 96,
      "outputs": [
        {
          "output_type": "execute_result",
          "data": {
            "text/html": [
              "<div>\n",
              "<style scoped>\n",
              "    .dataframe tbody tr th:only-of-type {\n",
              "        vertical-align: middle;\n",
              "    }\n",
              "\n",
              "    .dataframe tbody tr th {\n",
              "        vertical-align: top;\n",
              "    }\n",
              "\n",
              "    .dataframe thead th {\n",
              "        text-align: right;\n",
              "    }\n",
              "</style>\n",
              "<table border=\"1\" class=\"dataframe\">\n",
              "  <thead>\n",
              "    <tr style=\"text-align: right;\">\n",
              "      <th></th>\n",
              "      <th>count</th>\n",
              "      <th>mean</th>\n",
              "      <th>std</th>\n",
              "      <th>min</th>\n",
              "      <th>25%</th>\n",
              "      <th>50%</th>\n",
              "      <th>75%</th>\n",
              "      <th>max</th>\n",
              "    </tr>\n",
              "  </thead>\n",
              "  <tbody>\n",
              "    <tr>\n",
              "      <th>CRIM</th>\n",
              "      <td>354.0</td>\n",
              "      <td>3.358284</td>\n",
              "      <td>8.353223</td>\n",
              "      <td>0.00632</td>\n",
              "      <td>0.073425</td>\n",
              "      <td>0.26266</td>\n",
              "      <td>3.10370</td>\n",
              "      <td>88.9762</td>\n",
              "    </tr>\n",
              "    <tr>\n",
              "      <th>INDUS</th>\n",
              "      <td>354.0</td>\n",
              "      <td>11.078757</td>\n",
              "      <td>6.993821</td>\n",
              "      <td>0.46000</td>\n",
              "      <td>4.950000</td>\n",
              "      <td>8.56000</td>\n",
              "      <td>18.10000</td>\n",
              "      <td>27.7400</td>\n",
              "    </tr>\n",
              "    <tr>\n",
              "      <th>NOX</th>\n",
              "      <td>354.0</td>\n",
              "      <td>0.556098</td>\n",
              "      <td>0.115601</td>\n",
              "      <td>0.38500</td>\n",
              "      <td>0.450000</td>\n",
              "      <td>0.53800</td>\n",
              "      <td>0.62925</td>\n",
              "      <td>0.8710</td>\n",
              "    </tr>\n",
              "    <tr>\n",
              "      <th>RM</th>\n",
              "      <td>354.0</td>\n",
              "      <td>6.308427</td>\n",
              "      <td>0.702009</td>\n",
              "      <td>3.56100</td>\n",
              "      <td>5.895250</td>\n",
              "      <td>6.21550</td>\n",
              "      <td>6.64725</td>\n",
              "      <td>8.7800</td>\n",
              "    </tr>\n",
              "    <tr>\n",
              "      <th>AGE</th>\n",
              "      <td>354.0</td>\n",
              "      <td>68.994068</td>\n",
              "      <td>28.038429</td>\n",
              "      <td>2.90000</td>\n",
              "      <td>45.175000</td>\n",
              "      <td>79.45000</td>\n",
              "      <td>93.75000</td>\n",
              "      <td>100.0000</td>\n",
              "    </tr>\n",
              "    <tr>\n",
              "      <th>DIS</th>\n",
              "      <td>354.0</td>\n",
              "      <td>3.762459</td>\n",
              "      <td>2.067661</td>\n",
              "      <td>1.17420</td>\n",
              "      <td>2.107650</td>\n",
              "      <td>3.21570</td>\n",
              "      <td>5.07930</td>\n",
              "      <td>12.1265</td>\n",
              "    </tr>\n",
              "    <tr>\n",
              "      <th>TAX</th>\n",
              "      <td>354.0</td>\n",
              "      <td>401.782486</td>\n",
              "      <td>170.592404</td>\n",
              "      <td>187.00000</td>\n",
              "      <td>276.000000</td>\n",
              "      <td>311.00000</td>\n",
              "      <td>666.00000</td>\n",
              "      <td>711.0000</td>\n",
              "    </tr>\n",
              "    <tr>\n",
              "      <th>PTRATIO</th>\n",
              "      <td>354.0</td>\n",
              "      <td>18.473446</td>\n",
              "      <td>2.224809</td>\n",
              "      <td>12.60000</td>\n",
              "      <td>17.400000</td>\n",
              "      <td>19.10000</td>\n",
              "      <td>20.20000</td>\n",
              "      <td>22.0000</td>\n",
              "    </tr>\n",
              "    <tr>\n",
              "      <th>B</th>\n",
              "      <td>354.0</td>\n",
              "      <td>360.601186</td>\n",
              "      <td>85.621945</td>\n",
              "      <td>0.32000</td>\n",
              "      <td>376.057500</td>\n",
              "      <td>391.60500</td>\n",
              "      <td>395.69000</td>\n",
              "      <td>396.9000</td>\n",
              "    </tr>\n",
              "    <tr>\n",
              "      <th>LSTAT</th>\n",
              "      <td>354.0</td>\n",
              "      <td>12.440650</td>\n",
              "      <td>7.078485</td>\n",
              "      <td>1.73000</td>\n",
              "      <td>6.735000</td>\n",
              "      <td>11.16000</td>\n",
              "      <td>16.71750</td>\n",
              "      <td>36.9800</td>\n",
              "    </tr>\n",
              "    <tr>\n",
              "      <th>MEDV</th>\n",
              "      <td>354.0</td>\n",
              "      <td>22.745480</td>\n",
              "      <td>9.219796</td>\n",
              "      <td>5.00000</td>\n",
              "      <td>17.325000</td>\n",
              "      <td>21.40000</td>\n",
              "      <td>25.17500</td>\n",
              "      <td>50.0000</td>\n",
              "    </tr>\n",
              "  </tbody>\n",
              "</table>\n",
              "</div>"
            ],
            "text/plain": [
              "         count        mean         std  ...        50%        75%       max\n",
              "CRIM     354.0    3.358284    8.353223  ...    0.26266    3.10370   88.9762\n",
              "INDUS    354.0   11.078757    6.993821  ...    8.56000   18.10000   27.7400\n",
              "NOX      354.0    0.556098    0.115601  ...    0.53800    0.62925    0.8710\n",
              "RM       354.0    6.308427    0.702009  ...    6.21550    6.64725    8.7800\n",
              "AGE      354.0   68.994068   28.038429  ...   79.45000   93.75000  100.0000\n",
              "DIS      354.0    3.762459    2.067661  ...    3.21570    5.07930   12.1265\n",
              "TAX      354.0  401.782486  170.592404  ...  311.00000  666.00000  711.0000\n",
              "PTRATIO  354.0   18.473446    2.224809  ...   19.10000   20.20000   22.0000\n",
              "B        354.0  360.601186   85.621945  ...  391.60500  395.69000  396.9000\n",
              "LSTAT    354.0   12.440650    7.078485  ...   11.16000   16.71750   36.9800\n",
              "MEDV     354.0   22.745480    9.219796  ...   21.40000   25.17500   50.0000\n",
              "\n",
              "[11 rows x 8 columns]"
            ]
          },
          "metadata": {},
          "execution_count": 96
        }
      ]
    },
    {
      "cell_type": "markdown",
      "metadata": {
        "id": "vOj1-_JgzX7M"
      },
      "source": [
        "# 前処理に標準化を入れる"
      ]
    },
    {
      "cell_type": "code",
      "metadata": {
        "id": "AuiWjkPulPNt"
      },
      "source": [
        "from sklearn.preprocessing import StandardScaler\n",
        "scaler = StandardScaler()"
      ],
      "execution_count": 111,
      "outputs": []
    },
    {
      "cell_type": "code",
      "metadata": {
        "colab": {
          "base_uri": "https://localhost:8080/"
        },
        "id": "n7xS5EOlnBj3",
        "outputId": "cce0d072-d9d5-4eed-9df3-2e2bb7e3504f"
      },
      "source": [
        "scaler.fit(x_train)"
      ],
      "execution_count": 112,
      "outputs": [
        {
          "output_type": "execute_result",
          "data": {
            "text/plain": [
              "StandardScaler(copy=True, with_mean=True, with_std=True)"
            ]
          },
          "metadata": {},
          "execution_count": 112
        }
      ]
    },
    {
      "cell_type": "code",
      "metadata": {
        "id": "KFuVmA4enTcS"
      },
      "source": [
        "x_train_scaled = scaler.transform(x_train)\n",
        "x_test_scaled = scaler.transform(x_test)"
      ],
      "execution_count": 115,
      "outputs": []
    },
    {
      "cell_type": "markdown",
      "metadata": {
        "id": "Pgza28_2wkog"
      },
      "source": [
        "# GradientBoostingRegressor\n"
      ]
    },
    {
      "cell_type": "code",
      "metadata": {
        "id": "VDLdwxxJissl"
      },
      "source": [
        "from sklearn.ensemble import GradientBoostingRegressor\n",
        "from sklearn.model_selection import GridSearchCV"
      ],
      "execution_count": 116,
      "outputs": []
    },
    {
      "cell_type": "code",
      "metadata": {
        "id": "tcsPQAo7isu5"
      },
      "source": [
        "GBR = GradientBoostingRegressor()\n",
        "parameters = {'learning_rate' : [0.1, 0.05, 0.02, 0.01], \n",
        "              'max_depth': [4, 6],\n",
        "              'min_samples_leaf': [3, 5, 9, 17],\n",
        "              'max_features': [1.0, 0.3, 0.1]}"
      ],
      "execution_count": 117,
      "outputs": []
    },
    {
      "cell_type": "code",
      "metadata": {
        "id": "zKRPzUsAisxW",
        "colab": {
          "base_uri": "https://localhost:8080/"
        },
        "outputId": "bb9d9c1e-8571-4906-a7be-9fb550e30805"
      },
      "source": [
        "GBR = GridSearchCV(GBR, parameters, verbose=10, n_jobs=-1, cv=4)\n",
        "GBR.fit(x_train_scaled, t_train)\n",
        "print(\"精度の検証訓練データ{}\".format(GBR.score(x_train_scaled,t_train)))\n",
        "print(\"精度の検証テストデータ{}\".format(GBR.score(x_test_scaled,t_test)))"
      ],
      "execution_count": 118,
      "outputs": [
        {
          "output_type": "stream",
          "name": "stdout",
          "text": [
            "Fitting 4 folds for each of 96 candidates, totalling 384 fits\n"
          ]
        },
        {
          "output_type": "stream",
          "name": "stderr",
          "text": [
            "[Parallel(n_jobs=-1)]: Using backend LokyBackend with 2 concurrent workers.\n",
            "[Parallel(n_jobs=-1)]: Done   1 tasks      | elapsed:    1.2s\n",
            "[Parallel(n_jobs=-1)]: Done   4 tasks      | elapsed:    1.5s\n",
            "[Parallel(n_jobs=-1)]: Done   9 tasks      | elapsed:    2.0s\n",
            "[Parallel(n_jobs=-1)]: Done  14 tasks      | elapsed:    2.4s\n",
            "[Parallel(n_jobs=-1)]: Done  21 tasks      | elapsed:    2.8s\n",
            "[Parallel(n_jobs=-1)]: Done  28 tasks      | elapsed:    3.1s\n",
            "[Parallel(n_jobs=-1)]: Batch computation too fast (0.1998s.) Setting batch_size=2.\n",
            "[Parallel(n_jobs=-1)]: Done  42 tasks      | elapsed:    3.7s\n",
            "[Parallel(n_jobs=-1)]: Done  60 tasks      | elapsed:    5.3s\n",
            "[Parallel(n_jobs=-1)]: Done  82 tasks      | elapsed:    6.4s\n",
            "[Parallel(n_jobs=-1)]: Done 104 tasks      | elapsed:    7.8s\n",
            "[Parallel(n_jobs=-1)]: Done 130 tasks      | elapsed:    9.1s\n",
            "[Parallel(n_jobs=-1)]: Done 156 tasks      | elapsed:   11.0s\n",
            "[Parallel(n_jobs=-1)]: Done 186 tasks      | elapsed:   12.5s\n",
            "[Parallel(n_jobs=-1)]: Done 216 tasks      | elapsed:   14.5s\n",
            "[Parallel(n_jobs=-1)]: Done 250 tasks      | elapsed:   16.6s\n",
            "[Parallel(n_jobs=-1)]: Done 284 tasks      | elapsed:   18.4s\n",
            "[Parallel(n_jobs=-1)]: Done 322 tasks      | elapsed:   20.6s\n",
            "[Parallel(n_jobs=-1)]: Done 360 tasks      | elapsed:   23.2s\n"
          ]
        },
        {
          "output_type": "stream",
          "name": "stdout",
          "text": [
            "精度の検証訓練データ0.9888400666057614\n",
            "精度の検証テストデータ0.7696634463482991\n"
          ]
        },
        {
          "output_type": "stream",
          "name": "stderr",
          "text": [
            "[Parallel(n_jobs=-1)]: Done 384 out of 384 | elapsed:   24.2s finished\n"
          ]
        }
      ]
    },
    {
      "cell_type": "code",
      "metadata": {
        "colab": {
          "base_uri": "https://localhost:8080/"
        },
        "id": "N5Deh4D-9aPj",
        "outputId": "a4e524c9-f2f4-47fc-c552-82f54a01da16"
      },
      "source": [
        "GBR.fit(x_train, t_train)\n",
        "print(\"精度の検証訓練データ{}\".format(GBR.score(x_train,t_train)))\n",
        "print(\"精度の検証テストデータ{}\".format(GBR.score(x_test,t_test)))"
      ],
      "execution_count": 119,
      "outputs": [
        {
          "output_type": "stream",
          "name": "stderr",
          "text": [
            "[Parallel(n_jobs=-1)]: Using backend LokyBackend with 2 concurrent workers.\n"
          ]
        },
        {
          "output_type": "stream",
          "name": "stdout",
          "text": [
            "Fitting 4 folds for each of 96 candidates, totalling 384 fits\n"
          ]
        },
        {
          "output_type": "stream",
          "name": "stderr",
          "text": [
            "[Parallel(n_jobs=-1)]: Done   1 tasks      | elapsed:    0.2s\n",
            "[Parallel(n_jobs=-1)]: Batch computation too fast (0.1817s.) Setting batch_size=2.\n",
            "[Parallel(n_jobs=-1)]: Done   4 tasks      | elapsed:    0.4s\n",
            "[Parallel(n_jobs=-1)]: Done  14 tasks      | elapsed:    1.4s\n",
            "[Parallel(n_jobs=-1)]: Done  24 tasks      | elapsed:    1.8s\n",
            "[Parallel(n_jobs=-1)]: Done  38 tasks      | elapsed:    2.5s\n",
            "[Parallel(n_jobs=-1)]: Done  52 tasks      | elapsed:    3.3s\n",
            "[Parallel(n_jobs=-1)]: Done  70 tasks      | elapsed:    4.9s\n",
            "[Parallel(n_jobs=-1)]: Done  88 tasks      | elapsed:    5.7s\n",
            "[Parallel(n_jobs=-1)]: Done 110 tasks      | elapsed:    7.2s\n",
            "[Parallel(n_jobs=-1)]: Done 132 tasks      | elapsed:    8.3s\n",
            "[Parallel(n_jobs=-1)]: Done 158 tasks      | elapsed:   10.3s\n",
            "[Parallel(n_jobs=-1)]: Done 184 tasks      | elapsed:   11.5s\n",
            "[Parallel(n_jobs=-1)]: Done 214 tasks      | elapsed:   13.5s\n",
            "[Parallel(n_jobs=-1)]: Done 244 tasks      | elapsed:   14.9s\n",
            "[Parallel(n_jobs=-1)]: Done 278 tasks      | elapsed:   17.1s\n",
            "[Parallel(n_jobs=-1)]: Done 312 tasks      | elapsed:   19.3s\n",
            "[Parallel(n_jobs=-1)]: Done 350 tasks      | elapsed:   21.7s\n"
          ]
        },
        {
          "output_type": "stream",
          "name": "stdout",
          "text": [
            "精度の検証訓練データ0.9973360252256227\n",
            "精度の検証テストデータ0.7573341266769221\n"
          ]
        },
        {
          "output_type": "stream",
          "name": "stderr",
          "text": [
            "[Parallel(n_jobs=-1)]: Done 384 out of 384 | elapsed:   23.2s finished\n"
          ]
        }
      ]
    },
    {
      "cell_type": "code",
      "metadata": {
        "colab": {
          "base_uri": "https://localhost:8080/"
        },
        "id": "l4NNUySU3zPl",
        "outputId": "e4ec2b68-a974-4ee0-c37a-791dc3b145a7"
      },
      "source": [
        "model = GBR.best_estimator_\n",
        "model.set_params(n_estimators=100000)\n",
        "parameters = {'learning_rate' : [0.1, 0.05, 0.02, 0.01]}\n",
        "gscv = GridSearchCV(model, parameters, verbose=10, n_jobs=-1, cv=4)\n",
        "gscv.fit(x_train_scaled, t_train)\n",
        "print(\"best score=\", gscv.best_score_)"
      ],
      "execution_count": 120,
      "outputs": [
        {
          "output_type": "stream",
          "name": "stderr",
          "text": [
            "[Parallel(n_jobs=-1)]: Using backend LokyBackend with 2 concurrent workers.\n"
          ]
        },
        {
          "output_type": "stream",
          "name": "stdout",
          "text": [
            "Fitting 4 folds for each of 4 candidates, totalling 16 fits\n"
          ]
        },
        {
          "output_type": "stream",
          "name": "stderr",
          "text": [
            "[Parallel(n_jobs=-1)]: Done   1 tasks      | elapsed:   53.0s\n",
            "[Parallel(n_jobs=-1)]: Done   4 tasks      | elapsed:  1.8min\n",
            "[Parallel(n_jobs=-1)]: Done   9 tasks      | elapsed:  4.4min\n",
            "[Parallel(n_jobs=-1)]: Done  16 out of  16 | elapsed:  7.2min finished\n"
          ]
        },
        {
          "output_type": "stream",
          "name": "stdout",
          "text": [
            "best score= 0.8968217341313686\n"
          ]
        }
      ]
    },
    {
      "cell_type": "code",
      "metadata": {
        "colab": {
          "base_uri": "https://localhost:8080/"
        },
        "id": "M45ENpY-6CkJ",
        "outputId": "6911ffcb-3d99-481e-8acd-51ac413abc4f"
      },
      "source": [
        "gscv.best_score_"
      ],
      "execution_count": 121,
      "outputs": [
        {
          "output_type": "execute_result",
          "data": {
            "text/plain": [
              "0.8968217341313686"
            ]
          },
          "metadata": {},
          "execution_count": 121
        }
      ]
    },
    {
      "cell_type": "code",
      "metadata": {
        "id": "qnuVPFQejqxY"
      },
      "source": [
        "a = model.predict(x_test)"
      ],
      "execution_count": null,
      "outputs": []
    },
    {
      "cell_type": "code",
      "metadata": {
        "id": "IiH0DbSni5o-"
      },
      "source": [
        ""
      ],
      "execution_count": null,
      "outputs": []
    },
    {
      "cell_type": "code",
      "metadata": {
        "id": "4iwbP47ZF8vu",
        "colab": {
          "base_uri": "https://localhost:8080/"
        },
        "outputId": "beb7abc8-60c9-46b9-a4eb-a837bdb58428"
      },
      "source": [
        "model.predict(x_test)"
      ],
      "execution_count": 122,
      "outputs": [
        {
          "output_type": "execute_result",
          "data": {
            "text/plain": [
              "array([24.09722345, 24.97172397, 22.68155099,  9.72882427, 21.15958564,\n",
              "       20.7127432 , 20.97682609, 20.07141527, 21.56598203, 18.3239289 ,\n",
              "        8.7088984 , 17.27440694, 14.44527906,  8.12411214, 49.35122607,\n",
              "       33.63143539, 20.98180342, 36.77638094, 26.16766969, 22.03054558,\n",
              "       23.24180093, 22.91005755, 19.66582792, 24.92991781, 20.79107419,\n",
              "       19.85182271, 17.34871298, 16.95802337, 41.45266908, 17.46300911,\n",
              "       17.20530534, 16.76642576, 19.65159523, 20.23855219, 23.88523988,\n",
              "       17.17849302,  8.42663433, 19.64849908, 13.56305295, 15.70227131,\n",
              "       23.33644455, 20.55126154, 21.90907065, 15.36829496, 21.86074148,\n",
              "       21.05491107, 21.967707  , 16.93213103, 19.13341444, 24.22733876,\n",
              "       15.82279472, 20.9521706 , 20.62886628, 34.4592054 , 14.57890945,\n",
              "       19.99843324, 19.25125338, 17.79811934, 18.71086012, 19.98025367,\n",
              "       22.13497907, 20.7285306 , 29.43626523, 34.2904132 , 19.80050198,\n",
              "       30.48119872, 17.31548283, 18.78642024, 16.04003448, 23.41298438,\n",
              "       20.47472874, 22.55590897, 26.36223905, 31.37380079, 26.33853814,\n",
              "        9.66337006, 42.06333683, 22.82305834, 24.10340564, 19.42279858,\n",
              "       26.06279605, 18.65542842, 18.25180553, 42.10697956, 38.63244714,\n",
              "       24.94259675, 24.73057767, 15.66141339, 26.53895432, 15.23919334,\n",
              "       18.83129328, 12.10750176, 22.84755348, 28.52482719, 20.19788751,\n",
              "       22.38408726, 13.76538838, 23.9867539 , 14.16261284, 19.11863564,\n",
              "       24.61376001, 20.45117115, 27.9319204 , 21.43190433, 25.30761526,\n",
              "       20.10022301,  8.08819132, 18.40455374, 20.20289085, 23.45669681,\n",
              "       38.30032624, 14.3236583 , 18.64270859, 19.20596077, 16.9418474 ,\n",
              "       21.96296159,  9.28219351, 19.50126864, 11.19032292, 44.88403907,\n",
              "       31.49496184,  9.58292984, 18.94643942, 20.3730646 , 19.91463678,\n",
              "       19.10171416, 33.41632077, 18.51090593, 20.96706745, 31.10143351,\n",
              "       14.01571441, 10.12364832, 15.01680446, 21.52424857, 10.99810237,\n",
              "       35.0312561 , 21.68184693, 18.72333805, 27.13985352,  9.23920492,\n",
              "        8.57958482, 20.79466732, 35.11614419, 24.5621442 , 23.94684131,\n",
              "       16.04104382, 38.35002083, 34.79200556, 10.60109869,  8.33498539,\n",
              "       30.4230449 , 28.2306124 ])"
            ]
          },
          "metadata": {},
          "execution_count": 122
        }
      ]
    }
  ]
}